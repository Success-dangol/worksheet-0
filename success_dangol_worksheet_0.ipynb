{
  "nbformat": 4,
  "nbformat_minor": 0,
  "metadata": {
    "colab": {
      "provenance": []
    },
    "kernelspec": {
      "name": "python3",
      "display_name": "Python 3"
    },
    "language_info": {
      "name": "python"
    }
  },
  "cells": [
    {
      "cell_type": "code",
      "execution_count": null,
      "metadata": {
        "colab": {
          "base_uri": "https://localhost:8080/"
        },
        "id": "9eBMb5ApW-R8",
        "outputId": "acc81a1a-4292-44c7-e3b2-e112315acde9"
      },
      "outputs": [
        {
          "output_type": "stream",
          "name": "stdout",
          "text": [
            "Cold temperatures:  [2, 4, 6, 8]\n",
            "Mild temperatures:  [10, 12, 14]\n",
            "Comfortable temperatures:  [16, 18]\n"
          ]
        }
      ],
      "source": [
        "#Tak to do\n",
        "#Task 1:\n",
        "\n",
        "#create empty lists for temperature classifications:\n",
        "cold = []\n",
        "mild = []\n",
        "comfortable = []\n",
        "\n",
        "#sample list of temperatures\n",
        "temperatures = [2,4,6,8,10,12,14,16,18,20,22,24,26,26,30]\n",
        "\n",
        "# classify temperature\n",
        "for temp in temperatures:\n",
        "    if temp < 10:\n",
        "        cold.append(temp)\n",
        "    elif 10 <= temp < 15:\n",
        "        mild.append(temp)\n",
        "    elif 15 <= temp < 20:\n",
        "        comfortable.append(temp)\n",
        "\n",
        " #print the results\n",
        "\n",
        "print(\"Cold temperatures: \", cold)\n",
        "print(\"Mild temperatures: \", mild)\n",
        "print(\"Comfortable temperatures: \", comfortable)"
      ]
    },
    {
      "cell_type": "code",
      "source": [
        "#Task 2:\n",
        "\n",
        "cold = []\n",
        "mild = []\n",
        "comfortable = []\n",
        "\n",
        "# sample list of temperatures\n",
        "temperatures = [2,4,6,8,10,12,14,16,18,20,22,24,26,28,30]\n",
        "\n",
        "#2 classify temperatures\n",
        "for temp in temperatures:\n",
        "    if temp < 10:\n",
        "        cold.append(temp)\n",
        "    elif 10 <= temp < 15:\n",
        "        mild.append(temp)\n",
        "    elif 15 <= temp < 20:\n",
        "        comfortable.append(temp)\n",
        "\n",
        "# 3 print the results\n",
        "\n",
        "print(\"cold temperatures count: \", len(cold))\n",
        "print(\"mild temperatures count: \", len(mild))\n",
        "print(\"comfortable temperatures: \", len(comfortable))"
      ],
      "metadata": {
        "colab": {
          "base_uri": "https://localhost:8080/"
        },
        "id": "EXCL4dY1dfDw",
        "outputId": "662113ef-fa52-4c92-dcf7-a4a1d05621e7"
      },
      "execution_count": null,
      "outputs": [
        {
          "output_type": "stream",
          "name": "stdout",
          "text": [
            "cold temperatures count:  4\n",
            "mild temperatures count:  3\n",
            "comfortable temperatures:  2\n"
          ]
        }
      ]
    },
    {
      "cell_type": "code",
      "source": [
        "#Task 3:\n",
        "# List of temperatures in celsius\n",
        "\n",
        "temperatures_celsius = [2,4,6,8,10]\n",
        "\n",
        "# create an empty list to store temperatures in Fahrenheit\n",
        "temperatures_fahrenheit = []\n",
        "\n",
        "#Iterate over the temperatures list and convert each to fahrenheit\n",
        "for temp in temperatures_celsius:\n",
        "    fahrenheit = (temp * 9/5) + 32 # conversion formula\n",
        "    temperatures_fahrenheit.append(fahrenheit)\n",
        "#print the converted fahrenheit values\n",
        "print(\"Temperature in fahrenheit: \", temperatures_fahrenheit)\n",
        "\n"
      ],
      "metadata": {
        "colab": {
          "base_uri": "https://localhost:8080/"
        },
        "id": "i74xbF8GfUvN",
        "outputId": "f7a0f4d0-05b0-4237-a9f7-24627cba917c"
      },
      "execution_count": null,
      "outputs": [
        {
          "output_type": "stream",
          "name": "stdout",
          "text": [
            "Temperature in fahrenheit:  [35.6, 39.2, 42.8, 46.4, 50.0]\n"
          ]
        }
      ]
    },
    {
      "cell_type": "code",
      "source": [
        "#Task 4:\n",
        "import matplotlib.pyplot as plt\n",
        "\n",
        "#List of temperatures 24 readings for each hour of the day\n",
        "temperatures = [2,4,6,8,10,12,14,16,18,20,22,24,26,28,30,32,34,36,38,40,42,44,46,48]\\\n",
        "\n",
        "#1 create empty lists for time of day temperature groups\n",
        "night = []\n",
        "evening = []\n",
        "day = []\n",
        "\n",
        "#2 assign values to time of day lists based on their postion\n",
        "for i, temp in enumerate(temperatures):\n",
        "    if 0 <= i < 8:\n",
        "        night.append(temp)\n",
        "    elif 8 <= i < 16:\n",
        "         evening.append(temp)\n",
        "    elif 16 <= i < 24:\n",
        "          day.append(temp)\n",
        "\n",
        "# 3 calculate the average daytime temperature\n",
        "average_day_temperature = sum(day) / len(day)\n",
        "\n",
        "# print results\n",
        "print(\"Night temperatures:\", night)\n",
        "print(\"Evening temperatures:\", evening)\n",
        "print(\"Day temperatures:\", day)\n",
        "print(\"Average day-time temperature:\", average_day_temperature)\n",
        "\n",
        "# 4 plot \"day vs temperature\"\n",
        "hours = list(range(24))\n",
        "plt.plot(hours, temperatures, marker='o', label='Temperature')\n",
        "plt.axvspan(0, 8, color='blue', alpha=0.1, label='Night')\n",
        "plt.axvspan(8, 16, color='green', alpha=0.1, label='Evening')\n",
        "plt.axvspan(16, 24, color='orange', alpha=0.1, label='Day')\n",
        "plt.title(\"Hourly Temperature Readings\")\n",
        "plt.xlabel(\"Hour of the Day\")\n",
        "plt.ylabel(\"Temperature (°C)\")\n",
        "plt.xticks(range(0, 24, 2))  # Tick every 2 hours\n",
        "plt.legend()\n",
        "plt.grid()\n",
        "plt.show()\n"
      ],
      "metadata": {
        "colab": {
          "base_uri": "https://localhost:8080/",
          "height": 541
        },
        "id": "SWIh7gzunftL",
        "outputId": "ac67ab8f-900c-41b4-c5a7-eec990750a8c"
      },
      "execution_count": null,
      "outputs": [
        {
          "output_type": "stream",
          "name": "stdout",
          "text": [
            "Night temperatures: [2, 4, 6, 8, 10, 12, 14, 16]\n",
            "Evening temperatures: [18, 20, 22, 24, 26, 28, 30, 32]\n",
            "Day temperatures: [34, 36, 38, 40, 42, 44, 46, 48]\n",
            "Average day-time temperature: 41.0\n"
          ]
        },
        {
          "output_type": "display_data",
          "data": {
            "text/plain": [
              "<Figure size 640x480 with 1 Axes>"
            ],
            "image/png": "[encoded data removed]"
          },
          "metadata": {}
        }
      ]
    },
    {
      "cell_type": "code",
      "source": [
        "#Recursion\n",
        "#Task 1\n",
        "\n",
        "def sum_nested_list(nested_list):\n",
        "    total = 0\n",
        "    for item in nested_list:\n",
        "        if isinstance(item, list):\n",
        "            total += sum_nested_list(item)\n",
        "        else:\n",
        "            total += item\n",
        "    return total\n",
        "\n",
        "# Test the function with a sample nested ist\n",
        "nested_list = [1, [2, [3, 4], 5], 6, [7, 8]]\n",
        "result = sum_nested_list(nested_list)\n",
        "\n",
        "# printing the result\n",
        "print(\"Total sum of all numbers in the nested list: \", result)\n",
        "\n"
      ],
      "metadata": {
        "colab": {
          "base_uri": "https://localhost:8080/"
        },
        "id": "-Xryl3Hxp6Ze",
        "outputId": "f902c83a-1c34-46e4-e23c-c96e4bb95664"
      },
      "execution_count": null,
      "outputs": [
        {
          "output_type": "stream",
          "name": "stdout",
          "text": [
            "Total sum of all numbers in the nested list:  36\n"
          ]
        }
      ]
    },
    {
      "cell_type": "code",
      "source": [
        "#Task 2:\n",
        "def generate_permutations(s):\n",
        "    # Base case if the string has only one character, return it as the only permutation\n",
        "    if len(s) == 1:\n",
        "        return [s]\n",
        "\n",
        "    # To store all unique permutations\n",
        "    permutations = []\n",
        "\n",
        "    # Iterate through each character in the string\n",
        "    for i, char in enumerate(s):\n",
        "        # Remaining characters after removing the current character\n",
        "        remaining = s[:i] + s[i+1:]\n",
        "\n",
        "        # Recursive call to generate permutations of the remaining string\n",
        "        for permu in generate_permutations(remaining):\n",
        "            # Add the current character to each permutation of the remaining string\n",
        "            permutations.append(char + permu)\n",
        "\n",
        "    # Return the unique permutations by converting to a set and back to a list\n",
        "    return list(set(permutations))\n",
        "\n",
        "#Test the function with sample inputs\n",
        "print(generate_permutations(\"abc\"))\n",
        "print(generate_permutations(\"aab\"))\n",
        "\n",
        "\n",
        "\n",
        "\n",
        "\n"
      ],
      "metadata": {
        "colab": {
          "base_uri": "https://localhost:8080/"
        },
        "id": "X1MtwJZ7rYfR",
        "outputId": "1811e151-63c7-45be-c221-49ad290e7f21"
      },
      "execution_count": null,
      "outputs": [
        {
          "output_type": "stream",
          "name": "stdout",
          "text": [
            "['bca', 'cab', 'abc', 'cba', 'acb', 'bac']\n",
            "['aba', 'baa', 'aab']\n"
          ]
        }
      ]
    },
    {
      "cell_type": "code",
      "source": [
        "#Task-3:-\n",
        "\n",
        "def calculate_directory_size(directory):\n",
        "    total_size = 0\n",
        "    for name, content in directory.items():\n",
        "        if isinstance(content, dict):  # If the content is a subdirectory (nested dictionary)\n",
        "            total_size += calculate_directory_size(content)  # Recursively calculate its size\n",
        "        else:  # If the content is a file size\n",
        "            total_size += content\n",
        "    return total_size\n",
        "\n",
        "#Test the function with a sample directory structure\n",
        "sample_directory = {\n",
        "    \"file1.txt\": 200,  # 200 KB\n",
        "    \"file2.txt\": 300,  # 300 KB\n",
        "    \"subdir1\": {\n",
        "        \"file3.txt\": 400,  # 400 KB\n",
        "        \"file4.txt\": 100,  # 100 KB\n",
        "        \"subsubdir1\": {\n",
        "            \"file5.txt\": 250,  # 250 KB\n",
        "            \"file6.txt\": 150   # 150 KB\n",
        "        }\n",
        "    },\n",
        "    \"subdir2\": {\n",
        "        \"file7.txt\": 500  # 500 KB\n",
        "    }\n",
        "}\n",
        "\n",
        "#Calculate the total directory size\n",
        "total_size = calculate_directory_size(sample_directory)\n",
        "print(\"Total size of the directory:\", total_size, \"KB\")\n"
      ],
      "metadata": {
        "colab": {
          "base_uri": "https://localhost:8080/"
        },
        "id": "YEBfjaoNuEub",
        "outputId": "c0aa536b-b407-4f19-f279-145df5b9e22a"
      },
      "execution_count": null,
      "outputs": [
        {
          "output_type": "stream",
          "name": "stdout",
          "text": [
            "Total size of the directory: 1900 KB\n"
          ]
        }
      ]
    },
    {
      "cell_type": "code",
      "source": [
        "#Dynamic Programming\n",
        "#Task-1:-\n",
        "\n",
        "def min_coins(coins, amount):\n",
        "    #Initialize a DP array with a large value (representing infinity)\n",
        "    #The size of the DP array is amount + 1, with index i representing the minimum coins needed to make amount i.\n",
        "    dp = [float('inf')] * (amount + 1)\n",
        "\n",
        "    #Base case: 0 amount requires 0 coins\n",
        "    dp[0] = 0\n",
        "\n",
        "    #Iterate through all possible amounts from 1 to the target amount\n",
        "    for i in range(1, amount + 1):\n",
        "        for coin in coins:\n",
        "            if coin <= i:  # If the coin value is less than or equal to the current amount\n",
        "                dp[i] = min(dp[i], dp[i - coin] + 1)  # Take the minimum of the current and the new option\n",
        "\n",
        "    #If dp[amount] is still infinity, it means it's not possible to make the amount with the given coins\n",
        "    return dp[amount] if dp[amount] != float('inf') else -1\n",
        "\n",
        "#Test the function with coins = [1, 2, 5] and amount = 11\n",
        "coins = [1, 2, 5]\n",
        "amount = 11\n",
        "result = min_coins(coins, amount)\n",
        "print(f\"The minimum number of coins needed to make {amount} is: {result}\")"
      ],
      "metadata": {
        "colab": {
          "base_uri": "https://localhost:8080/"
        },
        "id": "wm5-IVHFuQUY",
        "outputId": "cae09403-7078-44b3-b605-00e6d907205a"
      },
      "execution_count": null,
      "outputs": [
        {
          "output_type": "stream",
          "name": "stdout",
          "text": [
            "The minimum number of coins needed to make 11 is: 3\n"
          ]
        }
      ]
    },
    {
      "cell_type": "code",
      "source": [
        "#Task-2:-\n",
        "\n",
        "def longest_common_subsequence(s1, s2):\n",
        "    #Initialize a DP table with dimensions (len(s1) + 1) x (len(s2) + 1)\n",
        "    #dp[i][j] will store the length of LCS of s1[0..i-1] and s2[0..j-1]\n",
        "    dp = [[0] * (len(s2) + 1) for _ in range(len(s1) + 1)]\n",
        "\n",
        "    #Fill the DP table\n",
        "    for i in range(1, len(s1) + 1):\n",
        "        for j in range(1, len(s2) + 1):\n",
        "            if s1[i - 1] == s2[j - 1]:  #If characters match, increment the length of LCS\n",
        "                dp[i][j] = dp[i - 1][j - 1] + 1\n",
        "            else:  #Otherwise, take the maximum of excluding the current character from either string\n",
        "                dp[i][j] = max(dp[i - 1][j], dp[i][j - 1])\n",
        "\n",
        "    #The length of the LCS will be in dp[len(s1)][len(s2)]\n",
        "    return dp[len(s1)][len(s2)]\n",
        "\n",
        "#Test the function with strings s1 = \"abcde\" and s2 = \"ace\"\n",
        "s1 = \"abcde\"\n",
        "s2 = \"ace\"\n",
        "result = longest_common_subsequence(s1, s2)\n",
        "print(f\"The length of the longest common subsequence is: {result}\")"
      ],
      "metadata": {
        "colab": {
          "base_uri": "https://localhost:8080/"
        },
        "id": "L6tG-2RwuX4y",
        "outputId": "933e4d3c-9da8-4e2c-c785-cfbf5870608e"
      },
      "execution_count": null,
      "outputs": [
        {
          "output_type": "stream",
          "name": "stdout",
          "text": [
            "The length of the longest common subsequence is: 3\n"
          ]
        }
      ]
    },
    {
      "cell_type": "code",
      "source": [
        "#Task-3:-\n",
        "\n",
        "def knapsack(weights, values, capacity):\n",
        "    n = len(weights)\n",
        "    #Initialize DP table with zeros. dp[i][j] will be the max value for i items and capacity j.\n",
        "    dp = [[0] * (capacity + 1) for _ in range(n + 1)]\n",
        "\n",
        "    #Fill the DP table\n",
        "    for i in range(1, n + 1):\n",
        "        for j in range(1, capacity + 1):\n",
        "            if weights[i - 1] <= j:  #If the item can fit in the current capacity\n",
        "                dp[i][j] = max(dp[i - 1][j], values[i - 1] + dp[i - 1][j - weights[i - 1]])\n",
        "            else:  #If the item cannot fit, exclude it\n",
        "                dp[i][j] = dp[i - 1][j]\n",
        "\n",
        "    #The bottom-right cell will have the maximum value for the full capacity and all items\n",
        "    return dp[n][capacity]\n",
        "\n",
        "#Test the function with sample inputs\n",
        "weights = [1, 3, 4, 5]\n",
        "values = [1, 4, 5, 7]\n",
        "capacity = 7\n",
        "result = knapsack(weights, values, capacity)\n",
        "print(f\"The maximum value that can be carried in the knapsack is: {result}\")"
      ],
      "metadata": {
        "colab": {
          "base_uri": "https://localhost:8080/"
        },
        "id": "oCZezdUoueWc",
        "outputId": "2d274744-bd56-4067-c514-403c638eaf1e"
      },
      "execution_count": null,
      "outputs": [
        {
          "output_type": "stream",
          "name": "stdout",
          "text": [
            "The maximum value that can be carried in the knapsack is: 9\n"
          ]
        }
      ]
    }
  ]
}