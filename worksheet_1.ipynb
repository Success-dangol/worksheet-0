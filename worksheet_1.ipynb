{
  "nbformat": 4,
  "nbformat_minor": 0,
  "metadata": {
    "colab": {
      "provenance": []
    },
    "kernelspec": {
      "name": "python3",
      "display_name": "Python 3"
    },
    "language_info": {
      "name": "python"
    }
  },
  "cells": [
    {
      "cell_type": "markdown",
      "source": [
        "Problem 1\n"
      ],
      "metadata": {
        "id": "YFtUE_fw6hxT"
      }
    },
    {
      "cell_type": "markdown",
      "source": [
        "Question no 1."
      ],
      "metadata": {
        "id": "RS_7ycJy6q1O"
      }
    },
    {
      "cell_type": "code",
      "source": [
        "import numpy as np\n",
        "A=np.empty((2,2))\n",
        "print(A)"
      ],
      "metadata": {
        "colab": {
          "base_uri": "https://localhost:8080/"
        },
        "id": "3FIoJalV6vAq",
        "outputId": "8b5105c1-290d-4614-987e-02b450ccdc90"
      },
      "execution_count": 1,
      "outputs": [
        {
          "output_type": "stream",
          "name": "stdout",
          "text": [
            "[[4.92224508e-310 0.00000000e+000]\n",
            " [6.78629700e-310 6.78629687e-310]]\n"
          ]
        }
      ]
    },
    {
      "cell_type": "markdown",
      "source": [
        "Question no 2.\n"
      ],
      "metadata": {
        "id": "_Q_qrrWp6240"
      }
    },
    {
      "cell_type": "code",
      "source": [
        "import numpy as np\n",
        "A = np.ones((4,2))\n",
        "print(A)"
      ],
      "metadata": {
        "colab": {
          "base_uri": "https://localhost:8080/"
        },
        "id": "IxFzA5aJ641m",
        "outputId": "0d34b933-2e50-40f6-a68e-4ea8216d8221"
      },
      "execution_count": 2,
      "outputs": [
        {
          "output_type": "stream",
          "name": "stdout",
          "text": [
            "[[1. 1.]\n",
            " [1. 1.]\n",
            " [1. 1.]\n",
            " [1. 1.]]\n"
          ]
        }
      ]
    },
    {
      "cell_type": "markdown",
      "source": [
        "Question no 3.\n"
      ],
      "metadata": {
        "id": "TKo-UXZi7Avr"
      }
    },
    {
      "cell_type": "code",
      "source": [
        "import numpy as np\n",
        "filled = np.full((2,2),1)#2*2 matrix filled by 1 as the value\n",
        "print(filled)"
      ],
      "metadata": {
        "colab": {
          "base_uri": "https://localhost:8080/"
        },
        "id": "19iivjk97CuH",
        "outputId": "42131272-cfd6-43d6-d53f-0075e1fe8b17"
      },
      "execution_count": 3,
      "outputs": [
        {
          "output_type": "stream",
          "name": "stdout",
          "text": [
            "[[1 1]\n",
            " [1 1]]\n"
          ]
        }
      ]
    },
    {
      "cell_type": "markdown",
      "source": [
        "Question no 4.\n"
      ],
      "metadata": {
        "id": "xpcaoQPw7bBF"
      }
    },
    {
      "cell_type": "code",
      "source": [
        "import numpy as np\n",
        "arr = np.array([[1,2,3],[4,5,6]])\n",
        "print(arr)\n",
        "zero_arr = np.zeros_like(arr)\n",
        "print(zero_arr)"
      ],
      "metadata": {
        "colab": {
          "base_uri": "https://localhost:8080/"
        },
        "id": "CBxAL0_B7dA8",
        "outputId": "69c8ac31-25f7-40f0-ac70-35d8f8bb4930"
      },
      "execution_count": 4,
      "outputs": [
        {
          "output_type": "stream",
          "name": "stdout",
          "text": [
            "[[1 2 3]\n",
            " [4 5 6]]\n",
            "[[0 0 0]\n",
            " [0 0 0]]\n"
          ]
        }
      ]
    },
    {
      "cell_type": "markdown",
      "source": [
        "Question no 5.\n"
      ],
      "metadata": {
        "id": "Z_Fuu4xy7hh0"
      }
    },
    {
      "cell_type": "code",
      "source": [
        "import numpy as np\n",
        "arr = np.array([[1,2,3],[4,5,6]])\n",
        "print(arr)\n",
        "ones_arr = np.ones_like(arr)\n",
        "print(ones_arr)"
      ],
      "metadata": {
        "colab": {
          "base_uri": "https://localhost:8080/"
        },
        "id": "sZRNgv_47jfe",
        "outputId": "fd1c501a-5157-44c2-8063-5618f22f232f"
      },
      "execution_count": 5,
      "outputs": [
        {
          "output_type": "stream",
          "name": "stdout",
          "text": [
            "[[1 2 3]\n",
            " [4 5 6]]\n",
            "[[1 1 1]\n",
            " [1 1 1]]\n"
          ]
        }
      ]
    },
    {
      "cell_type": "markdown",
      "source": [
        "Question no 6.\n"
      ],
      "metadata": {
        "id": "AjJbPQZY7nbE"
      }
    },
    {
      "cell_type": "code",
      "source": [
        "import numpy as np\n",
        "new_list=[1,2,3,4,5]\n",
        "arr = np.array(new_list)\n",
        "print(arr)"
      ],
      "metadata": {
        "colab": {
          "base_uri": "https://localhost:8080/"
        },
        "id": "OM8Q340Y7qDM",
        "outputId": "218715b1-4096-43c7-a747-54bffa4401c9"
      },
      "execution_count": 6,
      "outputs": [
        {
          "output_type": "stream",
          "name": "stdout",
          "text": [
            "[1 2 3 4 5]\n"
          ]
        }
      ]
    },
    {
      "cell_type": "markdown",
      "source": [
        "Problem 2"
      ],
      "metadata": {
        "id": "FyYSX6Xt7ta4"
      }
    },
    {
      "cell_type": "markdown",
      "source": [
        "Question no 1.\n"
      ],
      "metadata": {
        "id": "sk8rbLtM7wuQ"
      }
    },
    {
      "cell_type": "code",
      "source": [
        "import numpy as np\n",
        "arr = np.arange(10,49)\n",
        "print(arr)"
      ],
      "metadata": {
        "colab": {
          "base_uri": "https://localhost:8080/"
        },
        "id": "bEwufcRe7zBJ",
        "outputId": "1917362f-d184-412e-b171-02ccc9f52dac"
      },
      "execution_count": 7,
      "outputs": [
        {
          "output_type": "stream",
          "name": "stdout",
          "text": [
            "[10 11 12 13 14 15 16 17 18 19 20 21 22 23 24 25 26 27 28 29 30 31 32 33\n",
            " 34 35 36 37 38 39 40 41 42 43 44 45 46 47 48]\n"
          ]
        }
      ]
    },
    {
      "cell_type": "markdown",
      "source": [
        "Question no 2."
      ],
      "metadata": {
        "id": "hYnbGq4O73Cc"
      }
    },
    {
      "cell_type": "code",
      "source": [
        "import numpy as np\n",
        "arr = np.arange(0,9).reshape(3,3)\n",
        "print(arr)"
      ],
      "metadata": {
        "colab": {
          "base_uri": "https://localhost:8080/"
        },
        "id": "b_t_4ReO75BU",
        "outputId": "0150491e-6aea-44c5-8c27-b5092cfa36dd"
      },
      "execution_count": 8,
      "outputs": [
        {
          "output_type": "stream",
          "name": "stdout",
          "text": [
            "[[0 1 2]\n",
            " [3 4 5]\n",
            " [6 7 8]]\n"
          ]
        }
      ]
    },
    {
      "cell_type": "markdown",
      "source": [
        "Question no 3."
      ],
      "metadata": {
        "id": "HExOqd-Z78QV"
      }
    },
    {
      "cell_type": "code",
      "source": [
        "import numpy as np\n",
        "arr = np.eye(3,3)\n",
        "print(arr)"
      ],
      "metadata": {
        "colab": {
          "base_uri": "https://localhost:8080/"
        },
        "id": "c2FrVvbI7_DI",
        "outputId": "7a170f87-08bf-48e5-9ad1-ba3a9c96431a"
      },
      "execution_count": 9,
      "outputs": [
        {
          "output_type": "stream",
          "name": "stdout",
          "text": [
            "[[1. 0. 0.]\n",
            " [0. 1. 0.]\n",
            " [0. 0. 1.]]\n"
          ]
        }
      ]
    },
    {
      "cell_type": "markdown",
      "source": [
        "Question no 4.\n"
      ],
      "metadata": {
        "id": "O-Saigjp8Fyu"
      }
    },
    {
      "cell_type": "code",
      "source": [
        "import numpy as np\n",
        "arr = np.random.random(30)\n",
        "print(arr)\n",
        "arr_mean = arr.mean()\n",
        "print(\"\\n\", arr_mean)"
      ],
      "metadata": {
        "colab": {
          "base_uri": "https://localhost:8080/"
        },
        "id": "Fi1hgHRN8ITh",
        "outputId": "ff2d1caa-d8e0-43b1-b20b-491de852d06e"
      },
      "execution_count": 10,
      "outputs": [
        {
          "output_type": "stream",
          "name": "stdout",
          "text": [
            "[0.56869832 0.72334855 0.13219117 0.2289333  0.45688852 0.05369531\n",
            " 0.65812176 0.57916473 0.13282693 0.71282212 0.3510628  0.27919006\n",
            " 0.2284547  0.39927326 0.13073009 0.83147532 0.52290753 0.545453\n",
            " 0.15273939 0.43007274 0.90433034 0.87372332 0.24543007 0.1421478\n",
            " 0.52692425 0.64440792 0.13362988 0.8019675  0.36748109 0.61238159]\n",
            "\n",
            " 0.4456824455975212\n"
          ]
        }
      ]
    },
    {
      "cell_type": "markdown",
      "source": [
        "Question no 5."
      ],
      "metadata": {
        "id": "Pjzeh_k78QVQ"
      }
    },
    {
      "cell_type": "code",
      "source": [
        "import numpy as np\n",
        "arr = np.random.random((10,10))\n",
        "print(arr)\n",
        "arr_min = arr.min()\n",
        "arr_max = arr.max()\n",
        "print(\"\\n\", arr_min, arr_max)"
      ],
      "metadata": {
        "colab": {
          "base_uri": "https://localhost:8080/"
        },
        "id": "ki4vhPMa8Sis",
        "outputId": "19dd5ccf-df0b-4dc4-be1b-233c4c3151b1"
      },
      "execution_count": 11,
      "outputs": [
        {
          "output_type": "stream",
          "name": "stdout",
          "text": [
            "[[5.66875036e-01 2.58772094e-01 2.81045849e-01 9.16637592e-01\n",
            "  1.56966497e-02 8.49486227e-01 7.00257291e-01 1.91843760e-01\n",
            "  7.40933226e-01 8.52957012e-01]\n",
            " [3.35192073e-01 1.02298855e-01 9.14728220e-02 9.95574064e-01\n",
            "  1.23631656e-01 2.81977505e-01 3.73963994e-01 1.48038684e-01\n",
            "  9.08260781e-01 4.43279865e-01]\n",
            " [3.30324662e-01 1.99578621e-01 9.49074335e-01 4.89835584e-01\n",
            "  5.26637114e-01 7.47361317e-01 6.85517880e-01 9.68539610e-01\n",
            "  5.61261745e-01 7.93941788e-01]\n",
            " [5.57957249e-01 3.32319063e-01 3.88276434e-01 9.04809232e-02\n",
            "  3.75223155e-01 4.48310349e-04 5.39168179e-01 4.97731843e-01\n",
            "  4.86846785e-01 4.55812501e-01]\n",
            " [7.97920623e-01 1.62841931e-01 6.23657095e-01 2.58919554e-01\n",
            "  3.21442437e-01 4.71280966e-01 2.38138539e-01 4.12578853e-01\n",
            "  9.51840568e-01 3.08210015e-02]\n",
            " [4.36818300e-01 6.28206909e-01 7.72786302e-01 4.60192366e-01\n",
            "  2.64656862e-01 5.60416602e-02 5.38800317e-01 9.27926216e-01\n",
            "  7.60090921e-01 7.65324382e-01]\n",
            " [2.92761628e-01 2.55969425e-01 9.17455513e-01 8.74615242e-01\n",
            "  4.51848679e-01 7.71452002e-01 2.37805442e-01 4.98941616e-01\n",
            "  5.03435338e-02 4.17445537e-01]\n",
            " [6.71811707e-02 7.15583520e-01 3.02223395e-01 2.08786347e-02\n",
            "  1.37859340e-01 1.15655701e-01 9.40256835e-01 1.36280389e-01\n",
            "  5.23374842e-02 9.82439978e-01]\n",
            " [2.11853525e-02 3.07176316e-01 1.78412465e-01 9.76685240e-01\n",
            "  5.94592680e-01 3.34430798e-01 7.05062298e-01 7.99809029e-01\n",
            "  9.18782734e-01 7.76901262e-01]\n",
            " [3.73383704e-01 1.43410734e-01 2.09862418e-01 3.54159851e-01\n",
            "  1.27504809e-01 2.41425286e-01 8.88896197e-01 6.75962864e-01\n",
            "  9.76423770e-01 9.05732629e-01]]\n",
            "\n",
            " 0.0004483103491146334 0.9955740640035371\n"
          ]
        }
      ]
    },
    {
      "cell_type": "markdown",
      "source": [
        "Question no 6."
      ],
      "metadata": {
        "id": "u8V4gJ6b8bMK"
      }
    },
    {
      "cell_type": "code",
      "source": [
        "import numpy as np\n",
        "arr = np.zeros(10)\n",
        "arr[4] = 1\n",
        "print (arr)"
      ],
      "metadata": {
        "colab": {
          "base_uri": "https://localhost:8080/"
        },
        "id": "AQWN95L78eY-",
        "outputId": "babed025-e24e-4ff7-9d3c-61ae3494f962"
      },
      "execution_count": 12,
      "outputs": [
        {
          "output_type": "stream",
          "name": "stdout",
          "text": [
            "[0. 0. 0. 0. 1. 0. 0. 0. 0. 0.]\n"
          ]
        }
      ]
    },
    {
      "cell_type": "markdown",
      "source": [
        "Question no 7."
      ],
      "metadata": {
        "id": "YntuytvG8h5d"
      }
    },
    {
      "cell_type": "code",
      "source": [
        "import numpy as np\n",
        "arr = [1,2,0,0,4,0]\n",
        "rev_arr = np.flip(arr)\n",
        "print(rev_arr)"
      ],
      "metadata": {
        "colab": {
          "base_uri": "https://localhost:8080/"
        },
        "id": "w0Fr_w868j9y",
        "outputId": "41d35a6c-07d5-4829-d7be-831a1f07e943"
      },
      "execution_count": 13,
      "outputs": [
        {
          "output_type": "stream",
          "name": "stdout",
          "text": [
            "[0 4 0 0 2 1]\n"
          ]
        }
      ]
    },
    {
      "cell_type": "markdown",
      "source": [
        "Question no 8."
      ],
      "metadata": {
        "id": "2wmCDVar8pHB"
      }
    },
    {
      "cell_type": "code",
      "source": [
        "import numpy as np\n",
        "arr = np.ones((4,4))\n",
        "print(\"original array: \\n\", arr)\n",
        "arr[1:-1,1:-1] = 0\n",
        "print(\"Array with 1 on the border and 0 on inside \\n\", arr)"
      ],
      "metadata": {
        "colab": {
          "base_uri": "https://localhost:8080/"
        },
        "id": "eNRWetaD8q_C",
        "outputId": "6c709ed1-f4e9-4215-be06-2c6811d6550a"
      },
      "execution_count": 14,
      "outputs": [
        {
          "output_type": "stream",
          "name": "stdout",
          "text": [
            "original array: \n",
            " [[1. 1. 1. 1.]\n",
            " [1. 1. 1. 1.]\n",
            " [1. 1. 1. 1.]\n",
            " [1. 1. 1. 1.]]\n",
            "Array with 1 on the border and 0 on inside \n",
            " [[1. 1. 1. 1.]\n",
            " [1. 0. 0. 1.]\n",
            " [1. 0. 0. 1.]\n",
            " [1. 1. 1. 1.]]\n"
          ]
        }
      ]
    },
    {
      "cell_type": "markdown",
      "source": [
        "Problem 3"
      ],
      "metadata": {
        "id": "b1y-Ttob8u90"
      }
    },
    {
      "cell_type": "code",
      "source": [
        "import numpy as np\n",
        "x = np.array([[1,2],[3,5]])\n",
        "y = np.array([[5,6],[7,8]])\n",
        "v = np.array([9,10])\n",
        "w = np.array([11,12])\n",
        "sum_x_y = x+y\n",
        "sum_v_w = v+w\n",
        "print(\"sum of x and y matrix: \\n\",sum_x_y,\"\\n\")\n",
        "print(\"sum of v and w matirx: \\n\",sum_v_w, \"\\n\")\n",
        "diff_x_y = x-y\n",
        "diff_v_w = v-w\n",
        "print(\"difference of x and y matrix: \\n\",diff_x_y,\"\\n\")\n",
        "print(\"difference of v and w matrix: \\n\",diff_v_w, \"\\n\")\n",
        "prod_x_y = x*y\n",
        "prod_v_w = v*w\n",
        "print(\"product of x and y matrix: \\n\",prod_x_y,\"\\n\")\n",
        "print(\"product of v and w matrix: \\n\",prod_v_w, \"\\n\")\n",
        "sqr_x = np.square(x)\n",
        "sqr_y = np.square(y)\n",
        "sqr_v = np.square(v)\n",
        "sqr_w = np.square(w)\n",
        "print(\"square of x matrix: \\n\",sqr_x,\"\\n\")\n",
        "print(\"square of y matrix: \\n\",sqr_y,\"\\n\")\n",
        "print(\"square of v matrix: \\n\",sqr_v,\"\\n\")\n",
        "print(\"square of w matrix: \\n\",sqr_w,\"\\n\")\n",
        "dot_x_y = np.dot(x,y)\n",
        "dot_v_w = np.dot(v,w)\n",
        "print(\"dot product of x and y matrix: \\n\",dot_x_y,\"\\n\")\n",
        "print(\"dot product of v and w matrix: \\n\",dot_v_w,\"\\n\")\n",
        "conc1=np.concatenate((x,y),axis=1)\n",
        "conc1\n",
        "conc2=np.concatenate((v,w), axis=0)\n",
        "conc2"
      ],
      "metadata": {
        "colab": {
          "base_uri": "https://localhost:8080/"
        },
        "id": "I57cMa2687av",
        "outputId": "5958382b-1d84-449b-8759-0d6fa0eb8342"
      },
      "execution_count": 15,
      "outputs": [
        {
          "output_type": "stream",
          "name": "stdout",
          "text": [
            "sum of x and y matrix: \n",
            " [[ 6  8]\n",
            " [10 13]] \n",
            "\n",
            "sum of v and w matirx: \n",
            " [20 22] \n",
            "\n",
            "difference of x and y matrix: \n",
            " [[-4 -4]\n",
            " [-4 -3]] \n",
            "\n",
            "difference of v and w matrix: \n",
            " [-2 -2] \n",
            "\n",
            "product of x and y matrix: \n",
            " [[ 5 12]\n",
            " [21 40]] \n",
            "\n",
            "product of v and w matrix: \n",
            " [ 99 120] \n",
            "\n",
            "square of x matrix: \n",
            " [[ 1  4]\n",
            " [ 9 25]] \n",
            "\n",
            "square of y matrix: \n",
            " [[25 36]\n",
            " [49 64]] \n",
            "\n",
            "square of v matrix: \n",
            " [ 81 100] \n",
            "\n",
            "square of w matrix: \n",
            " [121 144] \n",
            "\n",
            "dot product of x and y matrix: \n",
            " [[19 22]\n",
            " [50 58]] \n",
            "\n",
            "dot product of v and w matrix: \n",
            " 219 \n",
            "\n"
          ]
        },
        {
          "output_type": "execute_result",
          "data": {
            "text/plain": [
              "array([ 9, 10, 11, 12])"
            ]
          },
          "metadata": {},
          "execution_count": 15
        }
      ]
    },
    {
      "cell_type": "markdown",
      "source": [
        "Problem 4"
      ],
      "metadata": {
        "id": "I_6hdhEU9LdM"
      }
    },
    {
      "cell_type": "code",
      "source": [
        "A = np.array([[3,4],[7,8]])\n",
        "B = np.array([[5,3],[2,1]])\n",
        "\n",
        "inverse=np.linalg.inv(A)\n",
        "mult=np.dot(A,inverse)\n",
        "\n",
        "Equal1=np.dot(A,B)\n",
        "Equal2=np.dot(B,A)\n",
        "Equal3=Equal1==Equal2\n",
        "\n",
        "inverse1=np.transpose(Equal1)\n",
        "inverse2=np.transpose(B)\n",
        "inverse3=np.transpose(A)\n",
        "inverse4=np.dot(inverse2,inverse3)"
      ],
      "metadata": {
        "id": "byqffOcq9Nxl"
      },
      "execution_count": 17,
      "outputs": []
    }
  ]
}